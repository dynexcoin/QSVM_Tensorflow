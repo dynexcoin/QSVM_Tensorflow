{
 "cells": [
  {
   "cell_type": "markdown",
   "id": "1073fafa",
   "metadata": {},
   "source": [
    "# Dynex Quantum Support Vector Machine (Tensorflow layer)"
   ]
  },
  {
   "cell_type": "markdown",
   "id": "fd4e6f36",
   "metadata": {},
   "source": [
    "in this example a classical classiﬁcation model, Kernel-Support Vector machine, is implemented as a Quadratic Unconstrained Binary Optimisation problem. Here, data points are classiﬁed by a separating hyperplane while maximizing the function margin. The problem is solved for a public Banknote Authentication dataset."
   ]
  },
  {
   "cell_type": "markdown",
   "id": "e5c0bf43",
   "metadata": {},
   "source": [
    "In [1] the authors performed benchmark tests for a Quantum-SVM on multiple D-Wave Quantum machines."
   ]
  },
  {
   "cell_type": "markdown",
   "id": "4993684a",
   "metadata": {},
   "source": [
    "We will demonstrate that the Dynex Neuromorphic Computing platform, by using the Dynex QSVM Tensorflow Layer, will significantly outperform these results."
   ]
  },
  {
   "cell_type": "markdown",
   "id": "b083fb08",
   "metadata": {},
   "source": [
    "## QSVM using the Dynex QSVM Tensorflow Layer"
   ]
  },
  {
   "cell_type": "code",
   "execution_count": 1,
   "id": "17371249",
   "metadata": {},
   "outputs": [
    {
     "name": "stderr",
     "output_type": "stream",
     "text": [
      "2023-12-29 23:04:18.234653: I tensorflow/core/platform/cpu_feature_guard.cc:182] This TensorFlow binary is optimized to use available CPU instructions in performance-critical operations.\n",
      "To enable the following instructions: AVX2 FMA, in other operations, rebuild TensorFlow with the appropriate compiler flags.\n",
      "2023-12-29 23:04:18.973561: W tensorflow/compiler/tf2tensorrt/utils/py_utils.cc:38] TF-TRT Warning: Could not find TensorRT\n"
     ]
    }
   ],
   "source": [
    "import math\n",
    "import tensorflow as tf\n",
    "from tensorflow.keras import models\n",
    "import numpy as np\n",
    "import matplotlib.pyplot as plt\n",
    "from sklearn.metrics import classification_report\n",
    "from QSVM_Layer import QSVM_Layer"
   ]
  },
  {
   "cell_type": "markdown",
   "id": "009a02e6",
   "metadata": {},
   "source": [
    "## Load Dataset Function"
   ]
  },
  {
   "cell_type": "code",
   "execution_count": 2,
   "id": "d159df77",
   "metadata": {},
   "outputs": [],
   "source": [
    "# create a tensorflow dataset\n",
    "class BankDataset():\n",
    "\tdef __init__(self, data_file):\n",
    "\t\t\"\"\"\n",
    "        this function define the BankDataset class from a text or CSV file \n",
    "\n",
    "        Parameters\n",
    "        ----------\n",
    "        data_file : the data file to be loaded\n",
    "\n",
    "        \"\"\"\n",
    "\t\ttraining_data = np.loadtxt('./datasets/{}'.format(data_file), delimiter=',')\n",
    "\t\tfor i in range(len(training_data)):\n",
    "\t\t\tif(training_data[i][-1] == 0):\n",
    "\t\t\t\ttraining_data[i][-1] = -1\n",
    "\t\tdata = training_data[:, :2]\n",
    "\t\ttarget = training_data[:, -1]\n",
    "\t\tx_min, x_max = 1000, 0\n",
    "\t\ty_min, y_max = 1000, 0\n",
    "    \t# rescalling data\n",
    "\t\tfor i in range(len(training_data)):\n",
    "\t\t\tx_min = min(data[i][0], x_min)\n",
    "\t\t\tx_max = max(data[i][0], x_max)\n",
    "\t\t\ty_min = min(data[i][1], y_min)\n",
    "\t\t\ty_max = max(data[i][1], y_max)\n",
    "\t\tfor i in range(len(training_data)):\n",
    "\t\t\tdata[i][0] = (data[i][0] - x_min)/(x_max - x_min)\n",
    "\t\t\tdata[i][1] = (data[i][1] - y_min)/(y_max - y_min)\n",
    "        \n",
    "\t\tself.data = data\n",
    "\t\tself.target = target\t\n",
    "\n",
    "\tdef to_tf_dataset(self, batch_size=1, shuffle=True):\n",
    "\t\tdataset = tf.data.Dataset.from_tensor_slices((self.data, self.target))\n",
    "\t\tif shuffle:\n",
    "\t\t\tdataset = dataset.shuffle(buffer_size=len(self.data))\n",
    "\t\tdataset = dataset.batch(batch_size)\n",
    "\t\treturn dataset"
   ]
  },
  {
   "cell_type": "markdown",
   "id": "b115c754",
   "metadata": {},
   "source": [
    "## Initialize the train, validation, and test data loaders with Tensorflow"
   ]
  },
  {
   "cell_type": "code",
   "execution_count": 3,
   "id": "bf1e2e9b",
   "metadata": {},
   "outputs": [
    {
     "name": "stderr",
     "output_type": "stream",
     "text": [
      "2023-12-29 23:04:20.886527: I tensorflow/compiler/xla/stream_executor/cuda/cuda_gpu_executor.cc:995] successful NUMA node read from SysFS had negative value (-1), but there must be at least one NUMA node, so returning NUMA node zero. See more at https://github.com/torvalds/linux/blob/v6.0/Documentation/ABI/testing/sysfs-bus-pci#L344-L355\n",
      "2023-12-29 23:04:20.917661: I tensorflow/compiler/xla/stream_executor/cuda/cuda_gpu_executor.cc:995] successful NUMA node read from SysFS had negative value (-1), but there must be at least one NUMA node, so returning NUMA node zero. See more at https://github.com/torvalds/linux/blob/v6.0/Documentation/ABI/testing/sysfs-bus-pci#L344-L355\n",
      "2023-12-29 23:04:20.917839: I tensorflow/compiler/xla/stream_executor/cuda/cuda_gpu_executor.cc:995] successful NUMA node read from SysFS had negative value (-1), but there must be at least one NUMA node, so returning NUMA node zero. See more at https://github.com/torvalds/linux/blob/v6.0/Documentation/ABI/testing/sysfs-bus-pci#L344-L355\n",
      "2023-12-29 23:04:20.919251: I tensorflow/compiler/xla/stream_executor/cuda/cuda_gpu_executor.cc:995] successful NUMA node read from SysFS had negative value (-1), but there must be at least one NUMA node, so returning NUMA node zero. See more at https://github.com/torvalds/linux/blob/v6.0/Documentation/ABI/testing/sysfs-bus-pci#L344-L355\n",
      "2023-12-29 23:04:20.919424: I tensorflow/compiler/xla/stream_executor/cuda/cuda_gpu_executor.cc:995] successful NUMA node read from SysFS had negative value (-1), but there must be at least one NUMA node, so returning NUMA node zero. See more at https://github.com/torvalds/linux/blob/v6.0/Documentation/ABI/testing/sysfs-bus-pci#L344-L355\n",
      "2023-12-29 23:04:20.919552: I tensorflow/compiler/xla/stream_executor/cuda/cuda_gpu_executor.cc:995] successful NUMA node read from SysFS had negative value (-1), but there must be at least one NUMA node, so returning NUMA node zero. See more at https://github.com/torvalds/linux/blob/v6.0/Documentation/ABI/testing/sysfs-bus-pci#L344-L355\n",
      "2023-12-29 23:04:21.473128: I tensorflow/compiler/xla/stream_executor/cuda/cuda_gpu_executor.cc:995] successful NUMA node read from SysFS had negative value (-1), but there must be at least one NUMA node, so returning NUMA node zero. See more at https://github.com/torvalds/linux/blob/v6.0/Documentation/ABI/testing/sysfs-bus-pci#L344-L355\n",
      "2023-12-29 23:04:21.473360: I tensorflow/compiler/xla/stream_executor/cuda/cuda_gpu_executor.cc:995] successful NUMA node read from SysFS had negative value (-1), but there must be at least one NUMA node, so returning NUMA node zero. See more at https://github.com/torvalds/linux/blob/v6.0/Documentation/ABI/testing/sysfs-bus-pci#L344-L355\n",
      "2023-12-29 23:04:21.473500: I tensorflow/compiler/xla/stream_executor/cuda/cuda_gpu_executor.cc:995] successful NUMA node read from SysFS had negative value (-1), but there must be at least one NUMA node, so returning NUMA node zero. See more at https://github.com/torvalds/linux/blob/v6.0/Documentation/ABI/testing/sysfs-bus-pci#L344-L355\n",
      "2023-12-29 23:04:21.473608: I tensorflow/core/common_runtime/gpu/gpu_device.cc:1639] Created device /job:localhost/replica:0/task:0/device:GPU:0 with 7386 MB memory:  -> device: 0, name: NVIDIA GeForce GTX 1070, pci bus id: 0000:01:00.0, compute capability: 6.1\n"
     ]
    }
   ],
   "source": [
    "# Initialize the BankDataset\n",
    "bank_dataset = BankDataset(data_file='banknote.txt')\n",
    "\n",
    "# Split the dataset into train and test sets\n",
    "train_percent = 0.8\n",
    "train_size = int(len(bank_dataset.data) * train_percent)\n",
    "test_size = len(bank_dataset.data) - train_size\n",
    "\n",
    "# Using TensorFlow for splitting the dataset\n",
    "#full_dataset = tf.data.Dataset.from_tensor_slices((bank_dataset.data, bank_dataset.labels))\n",
    "full_dataset = bank_dataset.to_tf_dataset(batch_size=1, shuffle=True)\n",
    "\n",
    "train_dataset = full_dataset.take(train_size)\n",
    "test_dataset = full_dataset.skip(train_size)\n",
    "\n",
    "# Convert to TensorFlow datasets with batching\n",
    "train_dataset = train_dataset.batch(1).shuffle(train_size)\n",
    "test_dataset = test_dataset.batch(1)"
   ]
  },
  {
   "cell_type": "markdown",
   "id": "e7c9b7e3",
   "metadata": {},
   "source": [
    "## Define Tensorflow model with a custom Dynex-QSVM layer"
   ]
  },
  {
   "cell_type": "code",
   "execution_count": 4,
   "id": "304c3fff",
   "metadata": {},
   "outputs": [],
   "source": [
    "class QSVM_Model(tf.keras.Model):\n",
    "  def __init__(self, B,K,C,gamma,xi,bank_dataset,train_percent,spl,mainnet,num_reads,annealing_time):\n",
    "    \n",
    "    super(QSVM_Model, self).__init__()\n",
    "    self.qsvm_layer = QSVM_Layer(B,K,C,gamma,xi,bank_dataset,train_percent,spl,mainnet,num_reads,annealing_time)\n",
    "\n",
    "  def call(self, x):\n",
    "    x = self.qsvm_layer(x) \n",
    "    return x"
   ]
  },
  {
   "cell_type": "markdown",
   "id": "440c900a",
   "metadata": {},
   "source": [
    "## Settings"
   ]
  },
  {
   "cell_type": "code",
   "execution_count": 5,
   "id": "64bf43da",
   "metadata": {},
   "outputs": [],
   "source": [
    "B = 2;\n",
    "K = 2;\n",
    "C = 3;\n",
    "gamma = 16;\n",
    "xi = 0.001;\n",
    "spl = \"DNX\";     \n",
    "device = \"cpu\" # no GPU used for Dynex only\n",
    "mainnet = False\n",
    "num_reads=20000 \n",
    "annealing_time = 200"
   ]
  },
  {
   "cell_type": "markdown",
   "id": "95e55bda",
   "metadata": {},
   "source": [
    "## Training"
   ]
  },
  {
   "cell_type": "code",
   "execution_count": 6,
   "id": "8d4bbc2f",
   "metadata": {},
   "outputs": [
    {
     "name": "stdout",
     "output_type": "stream",
     "text": [
      "training a new model...\n",
      "EPOCH 1 of 1\n",
      "[DYNEX] SAMPLER INITIALISED\n",
      "[DYNEX|TESTNET] *** WAITING FOR READS ***\n",
      "╭────────────┬─────────────┬───────────┬───────────────────────────┬─────────┬─────────┬────────────────╮\n",
      "│   DYNEXJOB │   BLOCK FEE │ ELAPSED   │ WORKERS READ              │ CHIPS   │ STEPS   │ GROUND STATE   │\n",
      "├────────────┼─────────────┼───────────┼───────────────────────────┼─────────┼─────────┼────────────────┤\n",
      "│         -1 │           0 │           │ *** WAITING FOR READS *** │         │         │                │\n",
      "╰────────────┴─────────────┴───────────┴───────────────────────────┴─────────┴─────────┴────────────────╯\n",
      "\n",
      "[DYNEX] FINISHED READ AFTER 0.01 SECONDS\n",
      "[DYNEX] SAMPLESET READY\n",
      "Solver Time: 17.972045780999906\n",
      "training end\n",
      "test dataset result:\n",
      "precision=1.0 recall=1.0 f_score=1.0 accuracy=1.0\n"
     ]
    }
   ],
   "source": [
    "### train a new model on the train dataset\n",
    "model = QSVM_Model(B,K,C,gamma,xi,bank_dataset,train_percent,spl,mainnet,num_reads,annealing_time)\n",
    "EPOCHS = 1\n",
    "for e in range(0, EPOCHS):\n",
    "\tprint(\"training a new model...\")\n",
    "\tprint('EPOCH',e+1,'of',EPOCHS);\n",
    "\ttp, fp, tn, fn = 0, 0, 0, 0\n",
    "\t# training a model on dataset\n",
    "\tmodel.qsvm_layer.train(save_model=True, save_path='./models', model_file='QSVM.model')\n",
    "\tprint(\"training end\")\n",
    "\t# predict on test dadaset\n",
    "\tfor (x, y) in test_dataset:\n",
    "\t\t## remove batch dim\n",
    "\t\tx = tf.reshape(x, [x.shape[1], x.shape[2]])\n",
    "\t\t# perform a forward pass\n",
    "\t\tpred = model(x);\n",
    "\t\tif(y == 1):\n",
    "\t\t\tif(pred > 0):\n",
    "\t\t\t\ttp += 1\n",
    "\t\t\telse:\n",
    "\t\t\t\tfp += 1\n",
    "\t\telse:\n",
    "\t\t\tif(pred < 0):\n",
    "\t\t\t\ttn += 1\n",
    "\t\t\telse:\n",
    "\t\t\t\tfn += 1\n",
    "\tprint(\"test dataset result:\")\t\t\t\t\n",
    "\tprecision = tp / (tp + fp)\n",
    "\trecall = tp / (tp + fn)\n",
    "\tf_score = tp/(tp + 1/2*(fp+fn))\n",
    "\taccuracy = (tp + tn)/(tp+tn+fp+fn)\n",
    "\tprint(f\"{precision=} {recall=} {f_score=} {accuracy=}\")"
   ]
  },
  {
   "cell_type": "markdown",
   "id": "a1e6935a",
   "metadata": {},
   "source": [
    "## The Dynex Platorm achieved scores of 1.0 for every metric"
   ]
  },
  {
   "cell_type": "markdown",
   "id": "e14e08be",
   "metadata": {},
   "source": [
    "## Plot Results"
   ]
  },
  {
   "cell_type": "code",
   "execution_count": 7,
   "id": "0c8bc9a5",
   "metadata": {},
   "outputs": [],
   "source": [
    "def plot_figure(SVM,dataset,train_percent,sampler_type, img):\n",
    "\t\"\"\"\n",
    "    This function plot a contour image for dataset.\n",
    "    Parameters:\n",
    "    - SVM: the trained SVM model.\n",
    "    - dataset: dataset for train and test.\n",
    "    - train_percent: the percentage of dataset size for training.\n",
    "    - sampler_type: sampler type.\n",
    "    - img: Path to save the image.\n",
    "    \"\"\"\n",
    "\tplt.figure()\n",
    "\tcm = plt.cm.RdBu\n",
    "\tdata = dataset.data\n",
    "\tt = dataset.target\n",
    "\tN = int(len(dataset.data)*train_percent)\n",
    "\txx, yy = np.meshgrid(np.linspace(0.0, 1.0, 80), np.linspace(0.0, 1.0, 80))\n",
    "\tZ = []\n",
    "\tfor row in range(len(xx)):\n",
    "\t\tZ_row = []\n",
    "\t\tfor col in range(len(xx[row])):\n",
    "\t\t\ttarget = np.array([xx[row][col], yy[row][col]])\n",
    "\t\t\tZ_row.append(SVM(target))\n",
    "\t\tZ.append(Z_row)\n",
    "\t\n",
    "\tcnt = plt.contourf(xx, yy, Z, levels=np.arange(-1, 1.1, 0.1), cmap=cm, alpha=0.8, extend=\"both\")\n",
    "\tplt.contour(xx, yy, Z, levels=[0.0], colors=(\"black\",), linestyles=(\"--\",), linewidths=(0.8,))\n",
    "\tplt.colorbar(cnt, ticks=[-1, 0, 1])\n",
    "\n",
    "\tred_sv = []\n",
    "\tblue_sv = []\n",
    "\tred_pts = []\n",
    "\tblue_pts = []\n",
    "\n",
    "\tfor i in range(N):\n",
    "\t\tif(SVM.alpha[i]):\n",
    "\t\t\tif(t[i] == 1):\n",
    "\t\t\t\tblue_sv.append(data[i, :2])\n",
    "\t\t\telse:\n",
    "\t\t\t\tred_sv.append(data[i, :2])\n",
    "\t\telse:\n",
    "\t\t\tif(t[i] == 1):\n",
    "\t\t\t\tblue_pts.append(data[i, :2])\n",
    "\t\t\telse:\n",
    "\t\t\t\tred_pts.append(data[i, :2])\n",
    "\n",
    "\tplt.scatter([el[0] for el in blue_sv],\n",
    "                [el[1] for el in blue_sv], color='b', marker='^', edgecolors='k', label=\"Type 1 SV\")\n",
    "\n",
    "\tplt.scatter([el[0] for el in red_sv],\n",
    "                [el[1] for el in red_sv], color='r', marker='^', edgecolors='k', label=\"Type -1 SV\")\n",
    "\n",
    "\tplt.scatter([el[0] for el in blue_pts],\n",
    "                [el[1] for el in blue_pts], color='b', marker='o', edgecolors='k', label=\"Type 1 Train\")\n",
    "\n",
    "\tplt.scatter([el[0] for el in red_pts],\n",
    "                [el[1] for el in red_pts], color='r', marker='o', edgecolors='k', label=\"Type -1 Train\")    \n",
    "\tplt.legend(loc='lower right', fontsize='x-small')\n",
    "\tplt.savefig(f'{img}.jpg')"
   ]
  },
  {
   "cell_type": "code",
   "execution_count": 8,
   "id": "4ca9b503",
   "metadata": {},
   "outputs": [
    {
     "data": {
      "image/png": "[encoded data removed]",
      "text/plain": [
       "<Figure size 640x480 with 2 Axes>"
      ]
     },
     "metadata": {},
     "output_type": "display_data"
    }
   ],
   "source": [
    "plot_figure(model.qsvm_layer,bank_dataset,train_percent,spl,\"img\")"
   ]
  },
  {
   "cell_type": "code",
   "execution_count": 10,
   "id": "11ec32ff-404b-432d-b123-4cf77db45a2c",
   "metadata": {},
   "outputs": [
    {
     "name": "stdout",
     "output_type": "stream",
     "text": [
      "make a predict on a saved model...\n",
      "precision result:\n",
      "precision=0.8571428571428571 recall=1.0 f_score=0.9230769230769231 accuracy=0.9\n"
     ]
    }
   ],
   "source": [
    "def predict(model,model_file,dataset):\n",
    "\t\"\"\"\n",
    "        This function predict a trained SVM result for a dataset.\n",
    "\n",
    "        Parameters:\n",
    "            - model: the trained SVM model.\n",
    "            - model_file: the file saved a trained model.\n",
    "            - dataset: the dataset for predict.\n",
    "    \"\"\"\n",
    "\tmodel.load_model(model_file)\n",
    "\ttp, fp, tn, fn = 0, 0, 0, 0\n",
    "\tfor (x, y) in dataset:\n",
    "\t\t# send the input to the device\n",
    "\t\tx = tf.reshape(x, [x.shape[1], x.shape[2]])\n",
    "\t\t# perform a forward pass and calculate the training loss\n",
    "\t\tpred = model(x);\n",
    "\t\tif(y == 1):\n",
    "\t\t\tif(pred > 0):\n",
    "\t\t\t\ttp += 1\n",
    "\t\t\telse:\n",
    "\t\t\t\tfp += 1\n",
    "\t\telse:\n",
    "\t\t\tif(pred < 0):\n",
    "\t\t\t\ttn += 1\n",
    "\t\t\telse:\n",
    "\t\t\t\tfn += 1\n",
    "\n",
    "\tprecision = tp / (tp + fp)\n",
    "\trecall = tp / (tp + fn)\n",
    "\tf_score = tp/(tp + 1/2*(fp+fn))\n",
    "\taccuracy = (tp + tn)/(tp+tn+fp+fn)\n",
    "\tprint(\"precision result:\")\n",
    "\tprint(f\"{precision=} {recall=} {f_score=} {accuracy=}\") \n",
    "## load a saved model to predict on test dataset\n",
    "print(\"make a predict on a saved model...\")\n",
    "predict(model.qsvm_layer, './models/QSVM.model', test_dataset)"
   ]
  },
  {
   "cell_type": "markdown",
   "id": "b8d272d9",
   "metadata": {},
   "source": [
    "## References"
   ]
  },
  {
   "cell_type": "markdown",
   "id": "35be1a88",
   "metadata": {},
   "source": [
    "[1] Harshil Singh Bhatia and Frank Phillipson: Performance Analysis of Support Vector Machine Implementations on the D-Wave Quantum Annealer, International Conference on Computational Science, p.84-97, 2021, Springer\n",
    "\n",
    "[2] Booth, M., Reinhardt, S.P., Roy, A.: Partitioning Optimization Problems for Hybrid Classical/Quantum Execution. Technical report, D-Wave Systems (2017)\n",
    "\n",
    "[3] Chang, C.C., Lin, C.J.: LIBSVM: a library for support vector machines. ACM Trans. Intell. Syst. Technol. 2, 27:1–27:27.\n",
    "\n",
    "[4] Chatterjee, R., Yu, T.: Generalized coherent states, reproducing kernels, and quantum support vector machines. Quantum Inf. Comput. 17(15–16), 1292–1306 (2017)\n",
    "\n",
    "[5] Choi, V.: Minor-embedding in adiabatic quantum computation: I. the parameter setting problem. Quantum Inf. Process. 7(5), 193–209 (2008)\n",
    "\n",
    "[6] Coﬀrin, C.J.: Challenges with chains: testing the limits of a d-wave quantum annealer for discrete optimization. Technical report, Los Alamos National Lab. (LANL), Los Alamos, NM (United States) (2019)\n",
    "\n",
    "[7] Willsch, D., Willsch, M., De Raedt, H., Michielsen, K.: Support vector machines on the d-wave quantum annealer. Comput. Phys. Commun. 248, 107006 (2020)"
   ]
  }
 ],
 "metadata": {
  "kernelspec": {
   "display_name": "Python (tf)",
   "language": "python",
   "name": "tf"
  },
  "language_info": {
   "codemirror_mode": {
    "name": "ipython",
    "version": 3
   },
   "file_extension": ".py",
   "mimetype": "text/x-python",
   "name": "python",
   "nbconvert_exporter": "python",
   "pygments_lexer": "ipython3",
   "version": "3.9.18"
  }
 },
 "nbformat": 4,
 "nbformat_minor": 5
}
